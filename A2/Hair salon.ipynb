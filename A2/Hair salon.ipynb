{
 "cells": [
  {
   "cell_type": "markdown",
   "id": "9ed21216",
   "metadata": {},
   "source": [
    "# Descriptive and Inferential Statistics"
   ]
  },
  {
   "cell_type": "code",
   "execution_count": 238,
   "id": "f73ef7b9",
   "metadata": {},
   "outputs": [],
   "source": [
    "# import pandas for structuring the data\n",
    "import pandas as pd\n",
    "import pandas_profiling\n",
    "\n",
    "# import numpy for numerical analysis\n",
    "import numpy as np\n",
    "\n",
    "# import libs for diagrams inline with the text\n",
    "import matplotlib.pyplot as plt\n",
    "%matplotlib inline\n",
    "import seaborn as sns\n",
    "\n",
    "# other utilities\n",
    "from sklearn import datasets, preprocessing, metrics, tree\n",
    "from sklearn.model_selection import train_test_split\n",
    "import sklearn.ensemble as ske\n"
   ]
  },
  {
   "cell_type": "markdown",
   "id": "d9e09b20",
   "metadata": {},
   "source": [
    "## 1. Cleaning the data"
   ]
  },
  {
   "cell_type": "code",
   "execution_count": 148,
   "id": "244f8dfc",
   "metadata": {},
   "outputs": [
    {
     "name": "stderr",
     "output_type": "stream",
     "text": [
      "C:\\Users\\sebas\\anaconda3\\lib\\site-packages\\openpyxl\\worksheet\\_reader.py:312: UserWarning: Unknown extension is not supported and will be removed\n",
      "  warn(msg)\n"
     ]
    },
    {
     "data": {
      "text/html": [
       "<div>\n",
       "<style scoped>\n",
       "    .dataframe tbody tr th:only-of-type {\n",
       "        vertical-align: middle;\n",
       "    }\n",
       "\n",
       "    .dataframe tbody tr th {\n",
       "        vertical-align: top;\n",
       "    }\n",
       "\n",
       "    .dataframe thead th {\n",
       "        text-align: right;\n",
       "    }\n",
       "</style>\n",
       "<table border=\"1\" class=\"dataframe\">\n",
       "  <thead>\n",
       "    <tr style=\"text-align: right;\">\n",
       "      <th></th>\n",
       "      <th>Tip amount</th>\n",
       "      <th>Time</th>\n",
       "      <th>Day</th>\n",
       "      <th>Culture</th>\n",
       "      <th>Married</th>\n",
       "      <th>Age</th>\n",
       "    </tr>\n",
       "  </thead>\n",
       "  <tbody>\n",
       "    <tr>\n",
       "      <th>0</th>\n",
       "      <td>0</td>\n",
       "      <td>5.0</td>\n",
       "      <td>Fri</td>\n",
       "      <td>I</td>\n",
       "      <td>NM</td>\n",
       "      <td>30.0</td>\n",
       "    </tr>\n",
       "    <tr>\n",
       "      <th>1</th>\n",
       "      <td>1</td>\n",
       "      <td>2.0</td>\n",
       "      <td>Tue</td>\n",
       "      <td>E</td>\n",
       "      <td>NM</td>\n",
       "      <td>10.0</td>\n",
       "    </tr>\n",
       "    <tr>\n",
       "      <th>2</th>\n",
       "      <td>1</td>\n",
       "      <td>7.0</td>\n",
       "      <td>Tues</td>\n",
       "      <td>I</td>\n",
       "      <td>NM</td>\n",
       "      <td>35.0</td>\n",
       "    </tr>\n",
       "    <tr>\n",
       "      <th>3</th>\n",
       "      <td>2</td>\n",
       "      <td>5.0</td>\n",
       "      <td>Mon</td>\n",
       "      <td>I</td>\n",
       "      <td>NM</td>\n",
       "      <td>35.0</td>\n",
       "    </tr>\n",
       "    <tr>\n",
       "      <th>4</th>\n",
       "      <td>2</td>\n",
       "      <td>12.0</td>\n",
       "      <td>Fri</td>\n",
       "      <td>M</td>\n",
       "      <td>NM</td>\n",
       "      <td>15.0</td>\n",
       "    </tr>\n",
       "  </tbody>\n",
       "</table>\n",
       "</div>"
      ],
      "text/plain": [
       "  Tip amount  Time   Day Culture Married   Age\n",
       "0          0   5.0   Fri       I      NM  30.0\n",
       "1          1   2.0   Tue       E      NM  10.0\n",
       "2          1   7.0  Tues       I      NM  35.0\n",
       "3          2   5.0   Mon       I      NM  35.0\n",
       "4          2  12.0   Fri       M      NM  15.0"
      ]
     },
     "execution_count": 148,
     "metadata": {},
     "output_type": "execute_result"
    }
   ],
   "source": [
    "df = pd.read_excel(\"Haircut Tip Amounts.xlsx\", header=2, usecols=\"A:F\")\n",
    "df.head()"
   ]
  },
  {
   "cell_type": "markdown",
   "id": "18626638",
   "metadata": {},
   "source": [
    "### 1.1 Types"
   ]
  },
  {
   "cell_type": "code",
   "execution_count": 149,
   "id": "d05c0b58",
   "metadata": {},
   "outputs": [
    {
     "data": {
      "text/plain": [
       "Tip amount     object\n",
       "Time          float64\n",
       "Day            object\n",
       "Culture        object\n",
       "Married        object\n",
       "Age           float64\n",
       "dtype: object"
      ]
     },
     "execution_count": 149,
     "metadata": {},
     "output_type": "execute_result"
    }
   ],
   "source": [
    "#Define types\n",
    "df.dtypes"
   ]
  },
  {
   "cell_type": "code",
   "execution_count": 150,
   "id": "f4f11602",
   "metadata": {},
   "outputs": [
    {
     "data": {
      "text/plain": [
       "0     fri\n",
       "1     tue\n",
       "2    tues\n",
       "3     mon\n",
       "4     fri\n",
       "Name: Day, dtype: object"
      ]
     },
     "execution_count": 150,
     "metadata": {},
     "output_type": "execute_result"
    }
   ],
   "source": [
    "#Set all days to lowercase\n",
    "df['Day'] = df['Day'].str.lower()\n",
    "df.Day.head()"
   ]
  },
  {
   "cell_type": "code",
   "execution_count": 151,
   "id": "e20f8d2b",
   "metadata": {},
   "outputs": [
    {
     "data": {
      "text/html": [
       "<div>\n",
       "<style scoped>\n",
       "    .dataframe tbody tr th:only-of-type {\n",
       "        vertical-align: middle;\n",
       "    }\n",
       "\n",
       "    .dataframe tbody tr th {\n",
       "        vertical-align: top;\n",
       "    }\n",
       "\n",
       "    .dataframe thead th {\n",
       "        text-align: right;\n",
       "    }\n",
       "</style>\n",
       "<table border=\"1\" class=\"dataframe\">\n",
       "  <thead>\n",
       "    <tr style=\"text-align: right;\">\n",
       "      <th></th>\n",
       "      <th>Tip amount</th>\n",
       "      <th>Time</th>\n",
       "      <th>Day</th>\n",
       "      <th>Culture</th>\n",
       "      <th>Married</th>\n",
       "      <th>Age</th>\n",
       "    </tr>\n",
       "  </thead>\n",
       "  <tbody>\n",
       "    <tr>\n",
       "      <th>0</th>\n",
       "      <td>0</td>\n",
       "      <td>5.0</td>\n",
       "      <td>fri</td>\n",
       "      <td>I</td>\n",
       "      <td>NM</td>\n",
       "      <td>30.0</td>\n",
       "    </tr>\n",
       "    <tr>\n",
       "      <th>1</th>\n",
       "      <td>1</td>\n",
       "      <td>2.0</td>\n",
       "      <td>tue</td>\n",
       "      <td>E</td>\n",
       "      <td>NM</td>\n",
       "      <td>10.0</td>\n",
       "    </tr>\n",
       "    <tr>\n",
       "      <th>2</th>\n",
       "      <td>1</td>\n",
       "      <td>7.0</td>\n",
       "      <td>tues</td>\n",
       "      <td>I</td>\n",
       "      <td>NM</td>\n",
       "      <td>35.0</td>\n",
       "    </tr>\n",
       "    <tr>\n",
       "      <th>3</th>\n",
       "      <td>2</td>\n",
       "      <td>5.0</td>\n",
       "      <td>mon</td>\n",
       "      <td>I</td>\n",
       "      <td>NM</td>\n",
       "      <td>35.0</td>\n",
       "    </tr>\n",
       "    <tr>\n",
       "      <th>4</th>\n",
       "      <td>2</td>\n",
       "      <td>12.0</td>\n",
       "      <td>fri</td>\n",
       "      <td>M</td>\n",
       "      <td>NM</td>\n",
       "      <td>15.0</td>\n",
       "    </tr>\n",
       "  </tbody>\n",
       "</table>\n",
       "</div>"
      ],
      "text/plain": [
       "  Tip amount  Time   Day Culture Married   Age\n",
       "0          0   5.0   fri       I      NM  30.0\n",
       "1          1   2.0   tue       E      NM  10.0\n",
       "2          1   7.0  tues       I      NM  35.0\n",
       "3          2   5.0   mon       I      NM  35.0\n",
       "4          2  12.0   fri       M      NM  15.0"
      ]
     },
     "execution_count": 151,
     "metadata": {},
     "output_type": "execute_result"
    }
   ],
   "source": [
    "#Format all time entries\n",
    "#df.loc[df.Time < 10, \"Time\"] = df.Time +12\n",
    "#df.Day.replace(0, df[i].mean())\n",
    "df.head()"
   ]
  },
  {
   "cell_type": "code",
   "execution_count": 152,
   "id": "e88882e2",
   "metadata": {
    "scrolled": true
   },
   "outputs": [
    {
     "data": {
      "text/plain": [
       "Tip amount    1\n",
       "Time          2\n",
       "Day           2\n",
       "Culture       2\n",
       "Married       2\n",
       "Age           2\n",
       "dtype: int64"
      ]
     },
     "execution_count": 152,
     "metadata": {},
     "output_type": "execute_result"
    }
   ],
   "source": [
    "#Rows to remove\n",
    "df.isna().sum()"
   ]
  },
  {
   "cell_type": "markdown",
   "id": "e6ed83c9",
   "metadata": {},
   "source": [
    "### 1.2 Cleaning"
   ]
  },
  {
   "cell_type": "code",
   "execution_count": 153,
   "id": "17871639",
   "metadata": {},
   "outputs": [
    {
     "data": {
      "text/plain": [
       "Tip amount    0\n",
       "Time          0\n",
       "Day           0\n",
       "Culture       0\n",
       "Married       0\n",
       "Age           0\n",
       "dtype: int64"
      ]
     },
     "execution_count": 153,
     "metadata": {},
     "output_type": "execute_result"
    }
   ],
   "source": [
    "#Remove rows that has empty values and irelevant values\n",
    "is_NaN = df.isnull()\n",
    "row_has_NaN = is_NaN.any(axis=1)\n",
    "rows_with_NaN = df[row_has_NaN]\n",
    "df = df.drop(rows_with_NaN.index.values)\n",
    "df.isna().sum()"
   ]
  },
  {
   "cell_type": "code",
   "execution_count": 154,
   "id": "61bfbd70",
   "metadata": {},
   "outputs": [
    {
     "data": {
      "text/plain": [
       "0"
      ]
     },
     "execution_count": 154,
     "metadata": {},
     "output_type": "execute_result"
    }
   ],
   "source": [
    "#Find irregular rows from \"Married\" column and change value to mode\n",
    "df.loc[(df.Married != \"NM\") & (df.Married != \"M\"), \"Married\"] = df[\"Married\"].mode()\n",
    "(df.Married == \"kid\").sum()"
   ]
  },
  {
   "cell_type": "code",
   "execution_count": 155,
   "id": "c7ee6aa9",
   "metadata": {},
   "outputs": [
    {
     "data": {
      "text/plain": [
       "0"
      ]
     },
     "execution_count": 155,
     "metadata": {},
     "output_type": "execute_result"
    }
   ],
   "source": [
    "df.loc[(df.Culture == \"H\") | (df.Culture == \"V\"), \"Culture\"] = df[\"Culture\"].mode()\n",
    "(df.Culture == \"V\").sum()"
   ]
  },
  {
   "cell_type": "code",
   "execution_count": 156,
   "id": "c21f753f",
   "metadata": {},
   "outputs": [
    {
     "data": {
      "text/plain": [
       "Tip amount    Float64\n",
       "Time          float64\n",
       "Day            object\n",
       "Culture        object\n",
       "Married        object\n",
       "Age           float64\n",
       "dtype: object"
      ]
     },
     "execution_count": 156,
     "metadata": {},
     "output_type": "execute_result"
    }
   ],
   "source": [
    "#Change column \"Tip amount\" to float type\n",
    "df[\"Tip amount\"] = df[\"Tip amount\"].convert_dtypes()\n",
    "df.dtypes"
   ]
  },
  {
   "cell_type": "code",
   "execution_count": 157,
   "id": "756243e2",
   "metadata": {},
   "outputs": [],
   "source": [
    "for i in df.Day:\n",
    "    if len(i) > 3:\n",
    "        df.Day = df.Day.replace(i, i[:3])"
   ]
  },
  {
   "cell_type": "code",
   "execution_count": 158,
   "id": "c1d2d4b3",
   "metadata": {},
   "outputs": [],
   "source": [
    "def preprocessor(df):\n",
    "    processed_df = df.copy()\n",
    "    le = preprocessing.LabelEncoder()\n",
    "    processed_df['Married'] = le.fit_transform(df['Married'])\n",
    "    processed_df['Culture'] = le.fit_transform(df['Culture'])\n",
    "    processed_df['Day'] = le.fit_transform(df['Day'])\n",
    "    return processed_df"
   ]
  },
  {
   "cell_type": "code",
   "execution_count": 159,
   "id": "b587d144",
   "metadata": {},
   "outputs": [
    {
     "data": {
      "text/plain": [
       "Tip amount    Float64\n",
       "Time          float64\n",
       "Day             int32\n",
       "Culture         int32\n",
       "Married         int32\n",
       "Age           float64\n",
       "dtype: object"
      ]
     },
     "execution_count": 159,
     "metadata": {},
     "output_type": "execute_result"
    }
   ],
   "source": [
    "#Change column \"Married\", \"Day\" and \"Culture\" to numeric types contained in a copy\n",
    "preprocessor(df).dtypes"
   ]
  },
  {
   "cell_type": "code",
   "execution_count": 42,
   "id": "6502162a",
   "metadata": {},
   "outputs": [
    {
     "data": {
      "text/plain": [
       "Tip amount    Float64\n",
       "Time          float64\n",
       "Day            object\n",
       "Culture        object\n",
       "Married        object\n",
       "Age           float64\n",
       "dtype: object"
      ]
     },
     "execution_count": 42,
     "metadata": {},
     "output_type": "execute_result"
    }
   ],
   "source": [
    "df.dtypes"
   ]
  },
  {
   "cell_type": "markdown",
   "id": "cad3b981",
   "metadata": {},
   "source": [
    "### 1.3 profilling"
   ]
  },
  {
   "cell_type": "code",
   "execution_count": 125,
   "id": "5df02056",
   "metadata": {},
   "outputs": [
    {
     "data": {
      "application/vnd.jupyter.widget-view+json": {
       "model_id": "696be44a46394106a9b005f018e857e6",
       "version_major": 2,
       "version_minor": 0
      },
      "text/plain": [
       "Summarize dataset:   0%|          | 0/21 [00:00<?, ?it/s]"
      ]
     },
     "metadata": {},
     "output_type": "display_data"
    },
    {
     "data": {
      "application/vnd.jupyter.widget-view+json": {
       "model_id": "f59f1f0032bf421e8b509d55f79e9980",
       "version_major": 2,
       "version_minor": 0
      },
      "text/plain": [
       "Generate report structure:   0%|          | 0/1 [00:00<?, ?it/s]"
      ]
     },
     "metadata": {},
     "output_type": "display_data"
    },
    {
     "data": {
      "application/vnd.jupyter.widget-view+json": {
       "model_id": "6a267ee648a5483eb6c1c915eccbc0dd",
       "version_major": 2,
       "version_minor": 0
      },
      "text/plain": [
       "Render HTML:   0%|          | 0/1 [00:00<?, ?it/s]"
      ]
     },
     "metadata": {},
     "output_type": "display_data"
    },
    {
     "data": {
      "application/vnd.jupyter.widget-view+json": {
       "model_id": "22a799e0ee6b4bf58eb91e0fbb7dbdb6",
       "version_major": 2,
       "version_minor": 0
      },
      "text/plain": [
       "Export report to file:   0%|          | 0/1 [00:00<?, ?it/s]"
      ]
     },
     "metadata": {},
     "output_type": "display_data"
    }
   ],
   "source": [
    "pandas_profiling.ProfileReport(preprocessor(df)).to_file(\"hair_salon_report2.html\")"
   ]
  },
  {
   "cell_type": "markdown",
   "id": "1f32f4a6",
   "metadata": {},
   "source": [
    "## 2. Exploring the data"
   ]
  },
  {
   "cell_type": "code",
   "execution_count": 171,
   "id": "db2d0eff",
   "metadata": {},
   "outputs": [
    {
     "data": {
      "text/plain": [
       "<AxesSubplot:xlabel='Tip amount'>"
      ]
     },
     "execution_count": 171,
     "metadata": {},
     "output_type": "execute_result"
    },
    {
     "data": {
      "image/png": "[encoded data removed]",
      "text/plain": [
       "<Figure size 432x288 with 1 Axes>"
      ]
     },
     "metadata": {
      "needs_background": "light"
     },
     "output_type": "display_data"
    }
   ],
   "source": [
    "#outliers\n",
    "sns.boxplot(x = df['Tip amount'])"
   ]
  },
  {
   "cell_type": "code",
   "execution_count": 167,
   "id": "aba53285",
   "metadata": {},
   "outputs": [],
   "source": [
    "outliner = df[df['Tip amount'] == df['Tip amount'].max()]\n",
    "df = df.drop(outliner.index)"
   ]
  },
  {
   "cell_type": "code",
   "execution_count": 168,
   "id": "17196c8c",
   "metadata": {},
   "outputs": [
    {
     "name": "stdout",
     "output_type": "stream",
     "text": [
      "most tips wednesday\n"
     ]
    },
    {
     "data": {
      "image/png": "[encoded data removed]",
      "text/plain": [
       "<Figure size 432x288 with 1 Axes>"
      ]
     },
     "metadata": {
      "needs_background": "light"
     },
     "output_type": "display_data"
    }
   ],
   "source": [
    "df.groupby('Day')['Tip amount'].mean().plot(kind='bar',color=['blue', 'red','green', 'pink','lightgreen','orange','yellow'])\n",
    "print('most tips wednesday')"
   ]
  },
  {
   "cell_type": "code",
   "execution_count": 172,
   "id": "fcae0e4a",
   "metadata": {},
   "outputs": [
    {
     "data": {
      "text/plain": [
       "<AxesSubplot:xlabel='Culture'>"
      ]
     },
     "execution_count": 172,
     "metadata": {},
     "output_type": "execute_result"
    },
    {
     "data": {
      "image/png": "[encoded data removed]",
      "text/plain": [
       "<Figure size 432x288 with 1 Axes>"
      ]
     },
     "metadata": {
      "needs_background": "light"
     },
     "output_type": "display_data"
    }
   ],
   "source": [
    "df.groupby('Culture')['Tip amount'].mean().plot(kind='bar',color=['blue', 'red','green', 'pink','lightgreen','orange','yellow'])"
   ]
  },
  {
   "cell_type": "code",
   "execution_count": 173,
   "id": "3b36c2af",
   "metadata": {},
   "outputs": [
    {
     "data": {
      "text/plain": [
       "<AxesSubplot:>"
      ]
     },
     "execution_count": 173,
     "metadata": {},
     "output_type": "execute_result"
    },
    {
     "data": {
      "image/png": "[encoded data removed]",
      "text/plain": [
       "<Figure size 432x288 with 2 Axes>"
      ]
     },
     "metadata": {
      "needs_background": "light"
     },
     "output_type": "display_data"
    }
   ],
   "source": [
    "dfp = preprocessor(df)\n",
    "sns.heatmap(dfp.corr(), annot=True)"
   ]
  },
  {
   "cell_type": "code",
   "execution_count": 132,
   "id": "b54986d0",
   "metadata": {},
   "outputs": [
    {
     "data": {
      "text/html": [
       "<div>\n",
       "<style scoped>\n",
       "    .dataframe tbody tr th:only-of-type {\n",
       "        vertical-align: middle;\n",
       "    }\n",
       "\n",
       "    .dataframe tbody tr th {\n",
       "        vertical-align: top;\n",
       "    }\n",
       "\n",
       "    .dataframe thead th {\n",
       "        text-align: right;\n",
       "    }\n",
       "</style>\n",
       "<table border=\"1\" class=\"dataframe\">\n",
       "  <thead>\n",
       "    <tr style=\"text-align: right;\">\n",
       "      <th></th>\n",
       "      <th>Tip amount</th>\n",
       "      <th>Time</th>\n",
       "      <th>Day</th>\n",
       "      <th>Married</th>\n",
       "      <th>Age</th>\n",
       "    </tr>\n",
       "    <tr>\n",
       "      <th>Culture</th>\n",
       "      <th></th>\n",
       "      <th></th>\n",
       "      <th></th>\n",
       "      <th></th>\n",
       "      <th></th>\n",
       "    </tr>\n",
       "  </thead>\n",
       "  <tbody>\n",
       "    <tr>\n",
       "      <th>A</th>\n",
       "      <td>13</td>\n",
       "      <td>13</td>\n",
       "      <td>13</td>\n",
       "      <td>13</td>\n",
       "      <td>13</td>\n",
       "    </tr>\n",
       "    <tr>\n",
       "      <th>B</th>\n",
       "      <td>4</td>\n",
       "      <td>4</td>\n",
       "      <td>4</td>\n",
       "      <td>4</td>\n",
       "      <td>4</td>\n",
       "    </tr>\n",
       "    <tr>\n",
       "      <th>E</th>\n",
       "      <td>8</td>\n",
       "      <td>8</td>\n",
       "      <td>8</td>\n",
       "      <td>8</td>\n",
       "      <td>8</td>\n",
       "    </tr>\n",
       "    <tr>\n",
       "      <th>H</th>\n",
       "      <td>1</td>\n",
       "      <td>1</td>\n",
       "      <td>1</td>\n",
       "      <td>1</td>\n",
       "      <td>1</td>\n",
       "    </tr>\n",
       "    <tr>\n",
       "      <th>I</th>\n",
       "      <td>39</td>\n",
       "      <td>39</td>\n",
       "      <td>39</td>\n",
       "      <td>39</td>\n",
       "      <td>39</td>\n",
       "    </tr>\n",
       "    <tr>\n",
       "      <th>M</th>\n",
       "      <td>25</td>\n",
       "      <td>25</td>\n",
       "      <td>25</td>\n",
       "      <td>25</td>\n",
       "      <td>25</td>\n",
       "    </tr>\n",
       "    <tr>\n",
       "      <th>P</th>\n",
       "      <td>14</td>\n",
       "      <td>14</td>\n",
       "      <td>14</td>\n",
       "      <td>14</td>\n",
       "      <td>14</td>\n",
       "    </tr>\n",
       "    <tr>\n",
       "      <th>V</th>\n",
       "      <td>1</td>\n",
       "      <td>1</td>\n",
       "      <td>1</td>\n",
       "      <td>1</td>\n",
       "      <td>1</td>\n",
       "    </tr>\n",
       "    <tr>\n",
       "      <th>W</th>\n",
       "      <td>127</td>\n",
       "      <td>127</td>\n",
       "      <td>127</td>\n",
       "      <td>126</td>\n",
       "      <td>127</td>\n",
       "    </tr>\n",
       "  </tbody>\n",
       "</table>\n",
       "</div>"
      ],
      "text/plain": [
       "         Tip amount  Time  Day  Married  Age\n",
       "Culture                                     \n",
       "A                13    13   13       13   13\n",
       "B                 4     4    4        4    4\n",
       "E                 8     8    8        8    8\n",
       "H                 1     1    1        1    1\n",
       "I                39    39   39       39   39\n",
       "M                25    25   25       25   25\n",
       "P                14    14   14       14   14\n",
       "V                 1     1    1        1    1\n",
       "W               127   127  127      126  127"
      ]
     },
     "execution_count": 132,
     "metadata": {},
     "output_type": "execute_result"
    }
   ],
   "source": [
    "df.groupby('Culture').count()"
   ]
  },
  {
   "cell_type": "markdown",
   "id": "b17b06dd",
   "metadata": {},
   "source": [
    "## 3. In depth analysis"
   ]
  },
  {
   "cell_type": "code",
   "execution_count": 174,
   "id": "d38e998e",
   "metadata": {},
   "outputs": [],
   "source": [
    "# Split the data into input and output\n",
    "x = dfp.drop(['Tip amount'], axis=1).values\n",
    "y = dfp['Tip amount'].values"
   ]
  },
  {
   "cell_type": "code",
   "execution_count": 220,
   "id": "71962099",
   "metadata": {},
   "outputs": [],
   "source": [
    "# Split the data into train and test sets\n",
    "# 80% of the dataset will be used for training and 20% will be used for testing\n",
    "x_train, x_test, y_train, y_test = train_test_split(x,y,test_size=0.2)"
   ]
  },
  {
   "cell_type": "code",
   "execution_count": 221,
   "id": "7da71760",
   "metadata": {},
   "outputs": [
    {
     "data": {
      "text/plain": [
       "0.3191489361702128"
      ]
     },
     "execution_count": 221,
     "metadata": {},
     "output_type": "execute_result"
    }
   ],
   "source": [
    "# Select a method\n",
    "dt = tree.DecisionTreeClassifier(max_depth=3)\n",
    "# Train a model\n",
    "dt.fit(x_train, y_train.astype(int))\n",
    "# Validate the model\n",
    "dt.score(x_test, y_test.astype(int))"
   ]
  },
  {
   "cell_type": "code",
   "execution_count": 230,
   "id": "816a06d0",
   "metadata": {},
   "outputs": [
    {
     "data": {
      "text/plain": [
       "0.2765957446808511"
      ]
     },
     "execution_count": 230,
     "metadata": {},
     "output_type": "execute_result"
    }
   ],
   "source": [
    "# Try another method\n",
    "rf = ske.RandomForestClassifier(n_estimators=50)\n",
    "rf.fit (x_train, y_train.astype(int))\n",
    "rf.score (x_test, y_test.astype(int))"
   ]
  },
  {
   "cell_type": "code",
   "execution_count": 237,
   "id": "a288ae62",
   "metadata": {},
   "outputs": [
    {
     "data": {
      "text/plain": [
       "0.2127659574468085"
      ]
     },
     "execution_count": 237,
     "metadata": {},
     "output_type": "execute_result"
    }
   ],
   "source": [
    "# Try another method\n",
    "gb = ske.GradientBoostingClassifier(n_estimators=50)\n",
    "gb.fit (x_train, y_train.astype(int))\n",
    "gb.score (x_test, y_test.astype(int))"
   ]
  },
  {
   "cell_type": "code",
   "execution_count": 241,
   "id": "e55e86ad",
   "metadata": {},
   "outputs": [
    {
     "data": {
      "text/plain": [
       "array([1, 2, 5, 5, 5, 1, 5, 5, 5, 5, 5, 5, 5, 5, 5, 5, 5, 5, 5, 5, 5, 5,\n",
       "       5, 5, 5, 5, 5, 5, 5, 5, 3, 5, 5, 5, 3, 5, 5, 5, 5, 5, 5, 5, 5, 5,\n",
       "       5, 5, 5])"
      ]
     },
     "execution_count": 241,
     "metadata": {},
     "output_type": "execute_result"
    }
   ],
   "source": [
    "# Test the classifier with the test input data\n",
    "prediction = dt.predict(x_test)\n",
    "prediction"
   ]
  },
  {
   "cell_type": "code",
   "execution_count": 251,
   "id": "fd3363bf",
   "metadata": {},
   "outputs": [
    {
     "name": "stderr",
     "output_type": "stream",
     "text": [
      "C:\\Users\\sebas\\anaconda3\\lib\\site-packages\\seaborn\\distributions.py:2619: FutureWarning: `distplot` is a deprecated function and will be removed in a future version. Please adapt your code to use either `displot` (a figure-level function with similar flexibility) or `histplot` (an axes-level function for histograms).\n",
      "  warnings.warn(msg, FutureWarning)\n",
      "C:\\Users\\sebas\\anaconda3\\lib\\site-packages\\seaborn\\distributions.py:2619: FutureWarning: `distplot` is a deprecated function and will be removed in a future version. Please adapt your code to use either `displot` (a figure-level function with similar flexibility) or `histplot` (an axes-level function for histograms).\n",
      "  warnings.warn(msg, FutureWarning)\n"
     ]
    },
    {
     "data": {
      "text/plain": [
       "<AxesSubplot:ylabel='Density'>"
      ]
     },
     "execution_count": 251,
     "metadata": {},
     "output_type": "execute_result"
    },
    {
     "data": {
      "image/png": "[encoded data removed]",
      "text/plain": [
       "<Figure size 432x288 with 1 Axes>"
      ]
     },
     "metadata": {
      "needs_background": "light"
     },
     "output_type": "display_data"
    }
   ],
   "source": [
    "sns.distplot(prediction)\n",
    "sns.distplot(y)"
   ]
  }
 ],
 "metadata": {
  "kernelspec": {
   "display_name": "Python 3 (ipykernel)",
   "language": "python",
   "name": "python3"
  },
  "language_info": {
   "codemirror_mode": {
    "name": "ipython",
    "version": 3
   },
   "file_extension": ".py",
   "mimetype": "text/x-python",
   "name": "python",
   "nbconvert_exporter": "python",
   "pygments_lexer": "ipython3",
   "version": "3.9.7"
  }
 },
 "nbformat": 4,
 "nbformat_minor": 5
}
