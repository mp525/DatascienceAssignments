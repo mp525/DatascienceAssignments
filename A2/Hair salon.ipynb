{
 "cells": [
  {
   "cell_type": "markdown",
   "id": "9ed21216",
   "metadata": {},
   "source": [
    "# Descriptive and Inferential Statistics"
   ]
  },
  {
   "cell_type": "code",
   "execution_count": 1,
   "id": "f73ef7b9",
   "metadata": {},
   "outputs": [],
   "source": [
    "# import pandas for structuring the data\n",
    "import pandas as pd\n",
    "\n",
    "# import numpy for numerical analysis\n",
    "import numpy as np\n",
    "\n",
    "# import libs for diagrams inline with the text\n",
    "import matplotlib.pyplot as plt\n",
    "%matplotlib inline\n",
    "import seaborn as sns\n",
    "\n",
    "# other utilities\n",
    "from sklearn import datasets, preprocessing, metrics"
   ]
  },
  {
   "cell_type": "code",
   "execution_count": 105,
   "id": "244f8dfc",
   "metadata": {},
   "outputs": [
    {
     "name": "stderr",
     "output_type": "stream",
     "text": [
      "C:\\Users\\Mathias\\anaconda3\\lib\\site-packages\\openpyxl\\worksheet\\_reader.py:312: UserWarning: Unknown extension is not supported and will be removed\n",
      "  warn(msg)\n"
     ]
    },
    {
     "data": {
      "text/html": [
       "<div>\n",
       "<style scoped>\n",
       "    .dataframe tbody tr th:only-of-type {\n",
       "        vertical-align: middle;\n",
       "    }\n",
       "\n",
       "    .dataframe tbody tr th {\n",
       "        vertical-align: top;\n",
       "    }\n",
       "\n",
       "    .dataframe thead th {\n",
       "        text-align: right;\n",
       "    }\n",
       "</style>\n",
       "<table border=\"1\" class=\"dataframe\">\n",
       "  <thead>\n",
       "    <tr style=\"text-align: right;\">\n",
       "      <th></th>\n",
       "      <th>Tip amount</th>\n",
       "      <th>Time</th>\n",
       "      <th>Day</th>\n",
       "      <th>Culture</th>\n",
       "      <th>Married</th>\n",
       "      <th>Age</th>\n",
       "    </tr>\n",
       "  </thead>\n",
       "  <tbody>\n",
       "    <tr>\n",
       "      <th>0</th>\n",
       "      <td>0</td>\n",
       "      <td>5.0</td>\n",
       "      <td>Fri</td>\n",
       "      <td>I</td>\n",
       "      <td>NM</td>\n",
       "      <td>30.0</td>\n",
       "    </tr>\n",
       "    <tr>\n",
       "      <th>1</th>\n",
       "      <td>1</td>\n",
       "      <td>2.0</td>\n",
       "      <td>Tue</td>\n",
       "      <td>E</td>\n",
       "      <td>NM</td>\n",
       "      <td>10.0</td>\n",
       "    </tr>\n",
       "    <tr>\n",
       "      <th>2</th>\n",
       "      <td>1</td>\n",
       "      <td>7.0</td>\n",
       "      <td>Tues</td>\n",
       "      <td>I</td>\n",
       "      <td>NM</td>\n",
       "      <td>35.0</td>\n",
       "    </tr>\n",
       "    <tr>\n",
       "      <th>3</th>\n",
       "      <td>2</td>\n",
       "      <td>5.0</td>\n",
       "      <td>Mon</td>\n",
       "      <td>I</td>\n",
       "      <td>NM</td>\n",
       "      <td>35.0</td>\n",
       "    </tr>\n",
       "    <tr>\n",
       "      <th>4</th>\n",
       "      <td>2</td>\n",
       "      <td>12.0</td>\n",
       "      <td>Fri</td>\n",
       "      <td>M</td>\n",
       "      <td>NM</td>\n",
       "      <td>15.0</td>\n",
       "    </tr>\n",
       "  </tbody>\n",
       "</table>\n",
       "</div>"
      ],
      "text/plain": [
       "  Tip amount  Time   Day Culture Married   Age\n",
       "0          0   5.0   Fri       I      NM  30.0\n",
       "1          1   2.0   Tue       E      NM  10.0\n",
       "2          1   7.0  Tues       I      NM  35.0\n",
       "3          2   5.0   Mon       I      NM  35.0\n",
       "4          2  12.0   Fri       M      NM  15.0"
      ]
     },
     "execution_count": 105,
     "metadata": {},
     "output_type": "execute_result"
    }
   ],
   "source": [
    "df = pd.read_excel(\"Data/Haircut Tip Amounts.xlsx\", header=2, usecols=\"A:F\")\n",
    "df.head()"
   ]
  },
  {
   "cell_type": "code",
   "execution_count": 106,
   "id": "d05c0b58",
   "metadata": {},
   "outputs": [
    {
     "data": {
      "text/plain": [
       "Tip amount     object\n",
       "Time          float64\n",
       "Day            object\n",
       "Culture        object\n",
       "Married        object\n",
       "Age           float64\n",
       "dtype: object"
      ]
     },
     "execution_count": 106,
     "metadata": {},
     "output_type": "execute_result"
    }
   ],
   "source": [
    "#Define types\n",
    "df.dtypes"
   ]
  },
  {
   "cell_type": "code",
   "execution_count": 107,
   "id": "e20f8d2b",
   "metadata": {},
   "outputs": [
    {
     "data": {
      "text/html": [
       "<div>\n",
       "<style scoped>\n",
       "    .dataframe tbody tr th:only-of-type {\n",
       "        vertical-align: middle;\n",
       "    }\n",
       "\n",
       "    .dataframe tbody tr th {\n",
       "        vertical-align: top;\n",
       "    }\n",
       "\n",
       "    .dataframe thead th {\n",
       "        text-align: right;\n",
       "    }\n",
       "</style>\n",
       "<table border=\"1\" class=\"dataframe\">\n",
       "  <thead>\n",
       "    <tr style=\"text-align: right;\">\n",
       "      <th></th>\n",
       "      <th>Tip amount</th>\n",
       "      <th>Time</th>\n",
       "      <th>Day</th>\n",
       "      <th>Culture</th>\n",
       "      <th>Married</th>\n",
       "      <th>Age</th>\n",
       "    </tr>\n",
       "  </thead>\n",
       "  <tbody>\n",
       "    <tr>\n",
       "      <th>0</th>\n",
       "      <td>0</td>\n",
       "      <td>17.0</td>\n",
       "      <td>Fri</td>\n",
       "      <td>I</td>\n",
       "      <td>NM</td>\n",
       "      <td>30.0</td>\n",
       "    </tr>\n",
       "    <tr>\n",
       "      <th>1</th>\n",
       "      <td>1</td>\n",
       "      <td>14.0</td>\n",
       "      <td>Tue</td>\n",
       "      <td>E</td>\n",
       "      <td>NM</td>\n",
       "      <td>10.0</td>\n",
       "    </tr>\n",
       "    <tr>\n",
       "      <th>2</th>\n",
       "      <td>1</td>\n",
       "      <td>19.0</td>\n",
       "      <td>Tues</td>\n",
       "      <td>I</td>\n",
       "      <td>NM</td>\n",
       "      <td>35.0</td>\n",
       "    </tr>\n",
       "    <tr>\n",
       "      <th>3</th>\n",
       "      <td>2</td>\n",
       "      <td>17.0</td>\n",
       "      <td>Mon</td>\n",
       "      <td>I</td>\n",
       "      <td>NM</td>\n",
       "      <td>35.0</td>\n",
       "    </tr>\n",
       "    <tr>\n",
       "      <th>4</th>\n",
       "      <td>2</td>\n",
       "      <td>12.0</td>\n",
       "      <td>Fri</td>\n",
       "      <td>M</td>\n",
       "      <td>NM</td>\n",
       "      <td>15.0</td>\n",
       "    </tr>\n",
       "  </tbody>\n",
       "</table>\n",
       "</div>"
      ],
      "text/plain": [
       "  Tip amount  Time   Day Culture Married   Age\n",
       "0          0  17.0   Fri       I      NM  30.0\n",
       "1          1  14.0   Tue       E      NM  10.0\n",
       "2          1  19.0  Tues       I      NM  35.0\n",
       "3          2  17.0   Mon       I      NM  35.0\n",
       "4          2  12.0   Fri       M      NM  15.0"
      ]
     },
     "execution_count": 107,
     "metadata": {},
     "output_type": "execute_result"
    }
   ],
   "source": [
    "#Format all time entries\n",
    "df.loc[df.Time < 10, \"Time\"] = df.Time +12\n",
    "df.head()"
   ]
  },
  {
   "cell_type": "code",
   "execution_count": 108,
   "id": "e88882e2",
   "metadata": {},
   "outputs": [
    {
     "data": {
      "text/plain": [
       "Tip amount    1\n",
       "Time          2\n",
       "Day           2\n",
       "Culture       2\n",
       "Married       2\n",
       "Age           2\n",
       "dtype: int64"
      ]
     },
     "execution_count": 108,
     "metadata": {},
     "output_type": "execute_result"
    }
   ],
   "source": [
    "#Rows to remove\n",
    "df.isna().sum()"
   ]
  },
  {
   "cell_type": "code",
   "execution_count": 109,
   "id": "17871639",
   "metadata": {},
   "outputs": [
    {
     "data": {
      "text/plain": [
       "Tip amount    0\n",
       "Time          0\n",
       "Day           0\n",
       "Culture       0\n",
       "Married       0\n",
       "Age           0\n",
       "dtype: int64"
      ]
     },
     "execution_count": 109,
     "metadata": {},
     "output_type": "execute_result"
    }
   ],
   "source": [
    "#Remove rows that has empty values and irelevant values\n",
    "is_NaN = df.isnull()\n",
    "row_has_NaN = is_NaN.any(axis=1)\n",
    "rows_with_NaN = df[row_has_NaN]\n",
    "df = df.drop(rows_with_NaN.index.values)\n",
    "df.isna().sum()"
   ]
  },
  {
   "cell_type": "code",
   "execution_count": 110,
   "id": "61bfbd70",
   "metadata": {},
   "outputs": [
    {
     "data": {
      "text/plain": [
       "0"
      ]
     },
     "execution_count": 110,
     "metadata": {},
     "output_type": "execute_result"
    }
   ],
   "source": [
    "#Find irregular rows from \"Married\" column and change value to mode\n",
    "df.loc[(df.Married != \"NM\") & (df.Married != \"M\"), \"Married\"] = df[\"Married\"].mode()\n",
    "(df.Married == \"kid\").sum()"
   ]
  },
  {
   "cell_type": "code",
   "execution_count": 111,
   "id": "c21f753f",
   "metadata": {},
   "outputs": [
    {
     "data": {
      "text/plain": [
       "Tip amount    Float64\n",
       "Time          float64\n",
       "Day            object\n",
       "Culture        object\n",
       "Married        object\n",
       "Age           float64\n",
       "dtype: object"
      ]
     },
     "execution_count": 111,
     "metadata": {},
     "output_type": "execute_result"
    }
   ],
   "source": [
    "#Change column \"Tip amount\" to float type\n",
    "df[\"Tip amount\"] = df[\"Tip amount\"].convert_dtypes()\n",
    "df.dtypes"
   ]
  },
  {
   "cell_type": "code",
   "execution_count": 112,
   "id": "c1d2d4b3",
   "metadata": {},
   "outputs": [],
   "source": [
    "def preprocessor(df):\n",
    "    processed_df = df.copy()\n",
    "    le = preprocessing.LabelEncoder()\n",
    "    processed_df['Married'] = le.fit_transform(df['Married'])\n",
    "    processed_df['Culture'] = le.fit_transform(df['Culture'])\n",
    "    processed_df['Day'] = le.fit_transform(df['Day'])\n",
    "    return processed_df"
   ]
  },
  {
   "cell_type": "code",
   "execution_count": 113,
   "id": "b587d144",
   "metadata": {},
   "outputs": [
    {
     "data": {
      "text/plain": [
       "Tip amount    Float64\n",
       "Time          float64\n",
       "Day             int32\n",
       "Culture         int32\n",
       "Married         int32\n",
       "Age           float64\n",
       "dtype: object"
      ]
     },
     "execution_count": 113,
     "metadata": {},
     "output_type": "execute_result"
    }
   ],
   "source": [
    "#Change column \"Married\", \"Day\" and \"Culture\" to numeric types contained in a copy\n",
    "preprocessor(df).dtypes"
   ]
  },
  {
   "cell_type": "code",
   "execution_count": 114,
   "id": "6502162a",
   "metadata": {},
   "outputs": [
    {
     "data": {
      "text/plain": [
       "Tip amount    Float64\n",
       "Time          float64\n",
       "Day            object\n",
       "Culture        object\n",
       "Married        object\n",
       "Age           float64\n",
       "dtype: object"
      ]
     },
     "execution_count": 114,
     "metadata": {},
     "output_type": "execute_result"
    }
   ],
   "source": [
    "df.dtypes"
   ]
  }
 ],
 "metadata": {
  "kernelspec": {
   "display_name": "Python 3 (ipykernel)",
   "language": "python",
   "name": "python3"
  },
  "language_info": {
   "codemirror_mode": {
    "name": "ipython",
    "version": 3
   },
   "file_extension": ".py",
   "mimetype": "text/x-python",
   "name": "python",
   "nbconvert_exporter": "python",
   "pygments_lexer": "ipython3",
   "version": "3.9.7"
  }
 },
 "nbformat": 4,
 "nbformat_minor": 5
}
