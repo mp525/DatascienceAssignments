{
 "cells": [
  {
   "cell_type": "code",
   "execution_count": 2,
   "id": "e5419dd0",
   "metadata": {},
   "outputs": [],
   "source": [
    "# For data manipulation\n",
    "import pandas as pd\n",
    "\n",
    "# for scientific computation\n",
    "import numpy as np\n",
    "\n",
    "# for data analysis\n",
    "from sklearn import linear_model\n",
    "import sklearn.metrics as sm\n",
    "\n",
    "# for diagramming \n",
    "import matplotlib.pyplot as plt\n",
    "\n",
    "# For serialization and deserialization of data from/to file\n",
    "import pickle\n",
    "\n",
    "from sklearn.linear_model import LinearRegression\n",
    "from sklearn.preprocessing import PolynomialFeatures\n",
    "import sklearn.metrics as sm\n",
    "from sklearn.model_selection import train_test_split \n",
    "from sklearn.preprocessing import PowerTransformer"
   ]
  },
  {
   "cell_type": "code",
   "execution_count": 20,
   "id": "7e965a0a",
   "metadata": {},
   "outputs": [
    {
     "data": {
      "text/html": [
       "<div>\n",
       "<style scoped>\n",
       "    .dataframe tbody tr th:only-of-type {\n",
       "        vertical-align: middle;\n",
       "    }\n",
       "\n",
       "    .dataframe tbody tr th {\n",
       "        vertical-align: top;\n",
       "    }\n",
       "\n",
       "    .dataframe thead th {\n",
       "        text-align: right;\n",
       "    }\n",
       "</style>\n",
       "<table border=\"1\" class=\"dataframe\">\n",
       "  <thead>\n",
       "    <tr style=\"text-align: right;\">\n",
       "      <th></th>\n",
       "      <th>Year</th>\n",
       "      <th>Value</th>\n",
       "    </tr>\n",
       "  </thead>\n",
       "  <tbody>\n",
       "    <tr>\n",
       "      <th>0</th>\n",
       "      <td>1960</td>\n",
       "      <td>5.918412e+10</td>\n",
       "    </tr>\n",
       "    <tr>\n",
       "      <th>1</th>\n",
       "      <td>1961</td>\n",
       "      <td>4.955705e+10</td>\n",
       "    </tr>\n",
       "    <tr>\n",
       "      <th>2</th>\n",
       "      <td>1962</td>\n",
       "      <td>4.668518e+10</td>\n",
       "    </tr>\n",
       "    <tr>\n",
       "      <th>3</th>\n",
       "      <td>1963</td>\n",
       "      <td>5.009730e+10</td>\n",
       "    </tr>\n",
       "    <tr>\n",
       "      <th>4</th>\n",
       "      <td>1964</td>\n",
       "      <td>5.906225e+10</td>\n",
       "    </tr>\n",
       "  </tbody>\n",
       "</table>\n",
       "</div>"
      ],
      "text/plain": [
       "   Year         Value\n",
       "0  1960  5.918412e+10\n",
       "1  1961  4.955705e+10\n",
       "2  1962  4.668518e+10\n",
       "3  1963  5.009730e+10\n",
       "4  1964  5.906225e+10"
      ]
     },
     "execution_count": 20,
     "metadata": {},
     "output_type": "execute_result"
    }
   ],
   "source": [
    "#Import the china gdp data\n",
    "df = pd.read_csv(\"../../../../soft2022spring-DS/Data/china_gdp.csv\")\n",
    "df.head()"
   ]
  },
  {
   "cell_type": "code",
   "execution_count": 21,
   "id": "6cb96d0f",
   "metadata": {},
   "outputs": [
    {
     "data": {
      "text/html": [
       "<div>\n",
       "<style scoped>\n",
       "    .dataframe tbody tr th:only-of-type {\n",
       "        vertical-align: middle;\n",
       "    }\n",
       "\n",
       "    .dataframe tbody tr th {\n",
       "        vertical-align: top;\n",
       "    }\n",
       "\n",
       "    .dataframe thead th {\n",
       "        text-align: right;\n",
       "    }\n",
       "</style>\n",
       "<table border=\"1\" class=\"dataframe\">\n",
       "  <thead>\n",
       "    <tr style=\"text-align: right;\">\n",
       "      <th></th>\n",
       "      <th>Year</th>\n",
       "      <th>Value</th>\n",
       "    </tr>\n",
       "  </thead>\n",
       "  <tbody>\n",
       "    <tr>\n",
       "      <th>count</th>\n",
       "      <td>55.00000</td>\n",
       "      <td>5.500000e+01</td>\n",
       "    </tr>\n",
       "    <tr>\n",
       "      <th>mean</th>\n",
       "      <td>1987.00000</td>\n",
       "      <td>1.437042e+12</td>\n",
       "    </tr>\n",
       "    <tr>\n",
       "      <th>std</th>\n",
       "      <td>16.02082</td>\n",
       "      <td>2.500085e+12</td>\n",
       "    </tr>\n",
       "    <tr>\n",
       "      <th>min</th>\n",
       "      <td>1960.00000</td>\n",
       "      <td>4.668518e+10</td>\n",
       "    </tr>\n",
       "    <tr>\n",
       "      <th>25%</th>\n",
       "      <td>1973.50000</td>\n",
       "      <td>1.395123e+11</td>\n",
       "    </tr>\n",
       "    <tr>\n",
       "      <th>50%</th>\n",
       "      <td>1987.00000</td>\n",
       "      <td>3.074796e+11</td>\n",
       "    </tr>\n",
       "    <tr>\n",
       "      <th>75%</th>\n",
       "      <td>2000.50000</td>\n",
       "      <td>1.268748e+12</td>\n",
       "    </tr>\n",
       "    <tr>\n",
       "      <th>max</th>\n",
       "      <td>2014.00000</td>\n",
       "      <td>1.035483e+13</td>\n",
       "    </tr>\n",
       "  </tbody>\n",
       "</table>\n",
       "</div>"
      ],
      "text/plain": [
       "             Year         Value\n",
       "count    55.00000  5.500000e+01\n",
       "mean   1987.00000  1.437042e+12\n",
       "std      16.02082  2.500085e+12\n",
       "min    1960.00000  4.668518e+10\n",
       "25%    1973.50000  1.395123e+11\n",
       "50%    1987.00000  3.074796e+11\n",
       "75%    2000.50000  1.268748e+12\n",
       "max    2014.00000  1.035483e+13"
      ]
     },
     "execution_count": 21,
     "metadata": {},
     "output_type": "execute_result"
    }
   ],
   "source": [
    "df.describe()"
   ]
  },
  {
   "cell_type": "markdown",
   "id": "83ec941d",
   "metadata": {},
   "source": [
    "## Linear regression model"
   ]
  },
  {
   "cell_type": "code",
   "execution_count": 22,
   "id": "18ee4a47",
   "metadata": {},
   "outputs": [],
   "source": [
    "X = df.iloc[:,:-1].values\n",
    "y = df.iloc[:,1].values"
   ]
  },
  {
   "cell_type": "code",
   "execution_count": 23,
   "id": "87566120",
   "metadata": {},
   "outputs": [],
   "source": [
    "# Split into the training set and test set\n",
    "from sklearn.model_selection import train_test_split \n",
    "X_train, X_test, y_train, y_test = train_test_split(X, y, test_size=0.2, random_state=0)"
   ]
  },
  {
   "cell_type": "code",
   "execution_count": 24,
   "id": "14a0305b",
   "metadata": {},
   "outputs": [
    {
     "data": {
      "text/plain": [
       "LinearRegression()"
      ]
     },
     "execution_count": 24,
     "metadata": {},
     "output_type": "execute_result"
    }
   ],
   "source": [
    "# creating Linear Regression model\n",
    "linreg = LinearRegression()\n",
    "\n",
    "# fitting the model to our data\n",
    "linreg.fit(X, y)"
   ]
  },
  {
   "cell_type": "code",
   "execution_count": 25,
   "id": "aecc8ad6",
   "metadata": {},
   "outputs": [
    {
     "data": {
      "text/plain": [
       "array([-1.61287007e+12, -1.49991037e+12, -1.38695067e+12, -1.27399097e+12,\n",
       "       -1.16103127e+12, -1.04807157e+12, -9.35111873e+11, -8.22152173e+11,\n",
       "       -7.09192474e+11, -5.96232774e+11, -4.83273075e+11, -3.70313376e+11,\n",
       "       -2.57353676e+11, -1.44393977e+11, -3.14342771e+10,  8.15254223e+10,\n",
       "        1.94485122e+11,  3.07444821e+11,  4.20404521e+11,  5.33364220e+11,\n",
       "        6.46323920e+11,  7.59283619e+11,  8.72243319e+11,  9.85203018e+11,\n",
       "        1.09816272e+12,  1.21112242e+12,  1.32408212e+12,  1.43704182e+12,\n",
       "        1.55000152e+12,  1.66296121e+12,  1.77592091e+12,  1.88888061e+12,\n",
       "        2.00184031e+12,  2.11480001e+12,  2.22775971e+12,  2.34071941e+12,\n",
       "        2.45367911e+12,  2.56663881e+12,  2.67959851e+12,  2.79255821e+12,\n",
       "        2.90551791e+12,  3.01847761e+12,  3.13143731e+12,  3.24439701e+12,\n",
       "        3.35735671e+12,  3.47031641e+12,  3.58327611e+12,  3.69623581e+12,\n",
       "        3.80919550e+12,  3.92215520e+12,  4.03511490e+12,  4.14807460e+12,\n",
       "        4.26103430e+12,  4.37399400e+12,  4.48695370e+12])"
      ]
     },
     "execution_count": 25,
     "metadata": {},
     "output_type": "execute_result"
    }
   ],
   "source": [
    "y_predicted = linreg.predict(X)\n",
    "y_predicted"
   ]
  },
  {
   "cell_type": "code",
   "execution_count": 26,
   "id": "91e72a3c",
   "metadata": {},
   "outputs": [
    {
     "data": {
      "image/png": "[encoded data removed]",
      "text/plain": [
       "<Figure size 432x288 with 1 Axes>"
      ]
     },
     "metadata": {
      "needs_background": "light"
     },
     "output_type": "display_data"
    }
   ],
   "source": [
    "# Visualise the Linear Regression \n",
    "plt.title('Linear Regression')\n",
    "plt.scatter(X, y, color='red')\n",
    "plt.plot(X, y_predicted, color='blue')\n",
    "plt.xlabel('Year')\n",
    "plt.ylabel('Value')\n",
    "plt.show()"
   ]
  },
  {
   "cell_type": "markdown",
   "id": "04e72cdf",
   "metadata": {},
   "source": [
    "## Polynomial Regression model"
   ]
  },
  {
   "cell_type": "code",
   "execution_count": 52,
   "id": "d793b4bb",
   "metadata": {},
   "outputs": [],
   "source": [
    "# polynomial regression model\n",
    "polyreg = PolynomialFeatures(degree=4)\n",
    "\n",
    "# transform my train data to adjust the polynom to linear regression model\n",
    "X_pol = polyreg.fit_transform(X)"
   ]
  },
  {
   "cell_type": "code",
   "execution_count": 53,
   "id": "6f53190d",
   "metadata": {},
   "outputs": [
    {
     "data": {
      "text/plain": [
       "LinearRegression()"
      ]
     },
     "execution_count": 53,
     "metadata": {},
     "output_type": "execute_result"
    }
   ],
   "source": [
    "# create linear regression model\n",
    "pollinreg = LinearRegression()\n",
    "pollinreg.fit(X_pol, y)"
   ]
  },
  {
   "cell_type": "code",
   "execution_count": 54,
   "id": "58c3f608",
   "metadata": {},
   "outputs": [],
   "source": [
    "# apply the model on my train data\n",
    "y_predicted = pollinreg.predict(X_pol)"
   ]
  },
  {
   "cell_type": "code",
   "execution_count": 55,
   "id": "eecfd0c3",
   "metadata": {},
   "outputs": [
    {
     "data": {
      "text/plain": [
       "array([-6.99853198e+11, -4.62561521e+11, -2.55301573e+11, -7.64771851e+10,\n",
       "        7.55103016e+10,  2.02262030e+11,  3.05381631e+11,  3.86475226e+11,\n",
       "        4.47151415e+11,  4.89021294e+11,  5.13698441e+11,  5.22798921e+11,\n",
       "        5.17941289e+11,  5.00746586e+11,  4.72838336e+11,  4.35842556e+11,\n",
       "        3.91387745e+11,  3.41104893e+11,  2.86627476e+11,  2.29591454e+11,\n",
       "        1.71635276e+11,  1.14399881e+11,  5.95286901e+10,  8.66761414e+09,\n",
       "       -3.65349510e+10, -7.44281186e+10, -1.03358519e+11, -1.21670294e+11,\n",
       "       -1.27705097e+11, -1.19802098e+11, -9.62979759e+10, -5.55269244e+10,\n",
       "        4.17934842e+09,  8.44916234e+10,  1.87083168e+11,  3.13629736e+11,\n",
       "        4.65809570e+11,  6.45303398e+11,  8.53794433e+11,  1.09296838e+12,\n",
       "        1.36451343e+12,  1.67012025e+12,  2.01148201e+12,  2.39029437e+12,\n",
       "        2.80825545e+12,  3.26706588e+12,  3.76842877e+12,  4.31404973e+12,\n",
       "        4.90563684e+12,  5.54490066e+12,  6.23355426e+12,  6.97331318e+12,\n",
       "        7.76589547e+12,  8.61302163e+12,  9.51641467e+12])"
      ]
     },
     "execution_count": 55,
     "metadata": {},
     "output_type": "execute_result"
    }
   ],
   "source": [
    "y_predicted"
   ]
  },
  {
   "cell_type": "code",
   "execution_count": 56,
   "id": "d77c48b2",
   "metadata": {},
   "outputs": [
    {
     "data": {
      "image/png": "[encoded data removed]",
      "text/plain": [
       "<Figure size 432x288 with 1 Axes>"
      ]
     },
     "metadata": {
      "needs_background": "light"
     },
     "output_type": "display_data"
    }
   ],
   "source": [
    "# Visualise the Polymonial Regression results\n",
    "plt.title('Polynomial Regression')\n",
    "plt.scatter(X, y, color='red')\n",
    "plt.plot(X, y_predicted, color='green')\n",
    "plt.xlabel('year')\n",
    "plt.ylabel('Value')\n",
    "plt.show()"
   ]
  },
  {
   "cell_type": "code",
   "execution_count": 32,
   "id": "23941604",
   "metadata": {},
   "outputs": [
    {
     "name": "stdout",
     "output_type": "stream",
     "text": [
      "Multiple Regression Performance\n",
      "Coefficient:  [ 0.00000000e+00  6.09990908e+08  8.12114089e+11 -5.47014400e+08\n",
      "  1.03625129e+05]\n",
      "Intercept:  -5.30343075581971e+17\n"
     ]
    }
   ],
   "source": [
    "print(\"Multiple Regression Performance\")\n",
    "\n",
    "# The coefficients\n",
    "print('Coefficient: ', pollinreg.coef_)\n",
    "print('Intercept: ', pollinreg.intercept_)"
   ]
  },
  {
   "cell_type": "markdown",
   "id": "af4daeff",
   "metadata": {},
   "source": [
    "## Test and Compare the Models"
   ]
  },
  {
   "cell_type": "code",
   "execution_count": 70,
   "id": "0d0a0194",
   "metadata": {},
   "outputs": [
    {
     "name": "stdout",
     "output_type": "stream",
     "text": [
      "prediction 2010: 6233554257856.0\n"
     ]
    }
   ],
   "source": [
    "# Predicting the same with Polymonial Regression\n",
    "result2010 = pollinreg.predict(polyreg.fit_transform([[2010]]))[0]\n",
    "print(\"prediction 2010:\", result2010)"
   ]
  },
  {
   "cell_type": "code",
   "execution_count": 71,
   "id": "240e5489",
   "metadata": {},
   "outputs": [
    {
     "name": "stdout",
     "output_type": "stream",
     "text": [
      "prediction 2020: 16215179325376.0\n"
     ]
    }
   ],
   "source": [
    "# the second test\n",
    "result2020 = pollinreg.predict(polyreg.fit_transform([[2020]]))[0]\n",
    "print(\"prediction 2020:\", result2020)"
   ]
  },
  {
   "cell_type": "code",
   "execution_count": 72,
   "id": "7c1992de",
   "metadata": {},
   "outputs": [
    {
     "name": "stdout",
     "output_type": "stream",
     "text": [
      "prediction 2022: 18976748520384.0\n"
     ]
    }
   ],
   "source": [
    "# the third test\n",
    "result2022 = pollinreg.predict(polyreg.fit_transform([[2022]]))[0]\n",
    "print(\"prediction 2022:\", result2022)"
   ]
  },
  {
   "cell_type": "markdown",
   "id": "aee54370",
   "metadata": {},
   "source": [
    "## Assess the Model"
   ]
  },
  {
   "cell_type": "code",
   "execution_count": 73,
   "id": "454ec643",
   "metadata": {},
   "outputs": [
    {
     "name": "stdout",
     "output_type": "stream",
     "text": [
      "rmse: 462654777558.25214\n",
      "r2: 0.97\n"
     ]
    }
   ],
   "source": [
    "# RMSE (Root mean squared error) answers the question: \"How similar, on average, are the numbers in list1 to list2?\"  \n",
    "rmse = np.sqrt(sm.mean_squared_error(y, y_predicted))\n",
    "r2 = sm.r2_score(y, y_predicted)\n",
    "print(\"rmse:\", rmse)\n",
    "print(\"r2:\", round(r2,2))"
   ]
  },
  {
   "cell_type": "markdown",
   "id": "3030cb76",
   "metadata": {},
   "source": [
    "### What type/s of regression have you applied?\n",
    "- We started applying a Linear regression, but it dit not fit at all, then we applied a polynominal regression in a linear model, because we only have one dependent variable (Value) on year.  \n",
    "\n",
    "### Which were the challenges?\n",
    "- Since our dependent varibale has huge numbers, we could not calculate our own function, to apply regression and rmse. We had to apply libraries from sklearn. Using training data, we had trouble appliying polynomial regression.\n",
    "\n",
    "### How accurate is your solution?\n",
    "- Our RMSE i 462654777558.25214 and R2 is 0.96, which means that our model i 97% accurate!\n",
    "\n",
    "### What else could be done for improvement of the accuracy?\n",
    "- By using a training set, and applying our model to a test set, we could test our model even better. However, due to challenges in using a polynomial regression on a training set, we have not done this. Did we perhaps overfit our model by not testing it on a test set?"
   ]
  }
 ],
 "metadata": {
  "kernelspec": {
   "display_name": "Python 3 (ipykernel)",
   "language": "python",
   "name": "python3"
  },
  "language_info": {
   "codemirror_mode": {
    "name": "ipython",
    "version": 3
   },
   "file_extension": ".py",
   "mimetype": "text/x-python",
   "name": "python",
   "nbconvert_exporter": "python",
   "pygments_lexer": "ipython3",
   "version": "3.9.7"
  }
 },
 "nbformat": 4,
 "nbformat_minor": 5
}
